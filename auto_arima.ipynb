{
 "cells": [
  {
   "cell_type": "markdown",
   "metadata": {},
   "source": [
    "### import the required librarires"
   ]
  },
  {
   "cell_type": "code",
   "execution_count": 141,
   "metadata": {},
   "outputs": [],
   "source": [
    "import pandas as pd\n",
    "import numpy as np\n",
    "import matplotlib.pyplot as plt\n",
    "import seaborn as sns\n",
    "import warnings\n",
    "import datetime\n",
    "import os\n",
    "from statsmodels.tsa.stattools import adfuller\n",
    "from datetime import datetime\n",
    "warnings.filterwarnings('ignore')"
   ]
  },
  {
   "cell_type": "markdown",
   "metadata": {},
   "source": [
    "### Fetch train and test data"
   ]
  },
  {
   "cell_type": "code",
   "execution_count": 142,
   "metadata": {},
   "outputs": [],
   "source": [
    "df=pd.read_excel(r'train.xlsx')\n",
    "df_test=pd.read_excel(r'test.xlsx')"
   ]
  },
  {
   "cell_type": "code",
   "execution_count": 143,
   "metadata": {},
   "outputs": [
    {
     "data": {
      "text/html": [
       "<div>\n",
       "<style scoped>\n",
       "    .dataframe tbody tr th:only-of-type {\n",
       "        vertical-align: middle;\n",
       "    }\n",
       "\n",
       "    .dataframe tbody tr th {\n",
       "        vertical-align: top;\n",
       "    }\n",
       "\n",
       "    .dataframe thead th {\n",
       "        text-align: right;\n",
       "    }\n",
       "</style>\n",
       "<table border=\"1\" class=\"dataframe\">\n",
       "  <thead>\n",
       "    <tr style=\"text-align: right;\">\n",
       "      <th></th>\n",
       "      <th>Sold To Party</th>\n",
       "      <th>Material</th>\n",
       "      <th>Order Quantity (EA)</th>\n",
       "      <th>Plant</th>\n",
       "      <th>First RDD</th>\n",
       "      <th>Net Value</th>\n",
       "      <th>RDD YYYY-MM</th>\n",
       "    </tr>\n",
       "  </thead>\n",
       "  <tbody>\n",
       "    <tr>\n",
       "      <th>0</th>\n",
       "      <td>1001024881</td>\n",
       "      <td>363083</td>\n",
       "      <td>2000</td>\n",
       "      <td>1100</td>\n",
       "      <td>2020-02-06</td>\n",
       "      <td>474.54</td>\n",
       "      <td>2020-02</td>\n",
       "    </tr>\n",
       "    <tr>\n",
       "      <th>1</th>\n",
       "      <td>1001024881</td>\n",
       "      <td>363083</td>\n",
       "      <td>7000</td>\n",
       "      <td>1100</td>\n",
       "      <td>2020-02-06</td>\n",
       "      <td>1310.89</td>\n",
       "      <td>2020-02</td>\n",
       "    </tr>\n",
       "    <tr>\n",
       "      <th>2</th>\n",
       "      <td>1001024881</td>\n",
       "      <td>364815</td>\n",
       "      <td>45000</td>\n",
       "      <td>1215</td>\n",
       "      <td>2020-01-09</td>\n",
       "      <td>2317.95</td>\n",
       "      <td>2020-01</td>\n",
       "    </tr>\n",
       "    <tr>\n",
       "      <th>3</th>\n",
       "      <td>1001024881</td>\n",
       "      <td>363083</td>\n",
       "      <td>10000</td>\n",
       "      <td>1100</td>\n",
       "      <td>2020-02-05</td>\n",
       "      <td>1872.70</td>\n",
       "      <td>2020-02</td>\n",
       "    </tr>\n",
       "    <tr>\n",
       "      <th>4</th>\n",
       "      <td>1001024881</td>\n",
       "      <td>366408</td>\n",
       "      <td>1000</td>\n",
       "      <td>1215</td>\n",
       "      <td>2020-01-09</td>\n",
       "      <td>167.59</td>\n",
       "      <td>2020-01</td>\n",
       "    </tr>\n",
       "  </tbody>\n",
       "</table>\n",
       "</div>"
      ],
      "text/plain": [
       "   Sold To Party  Material  Order Quantity (EA)  Plant  First RDD  Net Value  \\\n",
       "0     1001024881    363083                 2000   1100 2020-02-06     474.54   \n",
       "1     1001024881    363083                 7000   1100 2020-02-06    1310.89   \n",
       "2     1001024881    364815                45000   1215 2020-01-09    2317.95   \n",
       "3     1001024881    363083                10000   1100 2020-02-05    1872.70   \n",
       "4     1001024881    366408                 1000   1215 2020-01-09     167.59   \n",
       "\n",
       "  RDD YYYY-MM  \n",
       "0     2020-02  \n",
       "1     2020-02  \n",
       "2     2020-01  \n",
       "3     2020-02  \n",
       "4     2020-01  "
      ]
     },
     "execution_count": 143,
     "metadata": {},
     "output_type": "execute_result"
    }
   ],
   "source": [
    "df.head()"
   ]
  },
  {
   "cell_type": "markdown",
   "metadata": {},
   "source": [
    "### Preprocess the data before applying to arima model\n",
    "Here we are doing weekly analysis. There are many combinations of customer and material we are going with the follwing customer."
   ]
  },
  {
   "cell_type": "code",
   "execution_count": 144,
   "metadata": {},
   "outputs": [],
   "source": [
    "def data_preprocess(data):\n",
    "    for r in range(df.shape[0]):\n",
    "        if df.loc[r,'First RDD']==0:\n",
    "            df.loc[r,'RDD YW']=0\n",
    "        else:\n",
    "            df.loc[r,'RDD YW']=df.loc[r,'First RDD'].strftime('%Y-%V')\n",
    "    temp=df[(df['Sold To Party']==1001016461) & (df['Material']==292335)]\n",
    "    t1=temp[['RDD YW', 'Order Quantity (EA)']]\n",
    "    t1.sort_values(by='RDD YW', inplace=True)\n",
    "    t1.reset_index(inplace=True, drop=True)\n",
    "    t1=t1.groupby(by='RDD YW').sum()\n",
    "    t1.reset_index(inplace=True)\n",
    "    for r in range(0,t1.shape[0]):\n",
    "        t1.loc[r,'RDD YW']=datetime.strptime(t1.loc[r,'RDD YW'] + '-1', \"%Y-%W-%w\")\n",
    "    t1.set_index('RDD YW', inplace=True)\n",
    "    return t1"
   ]
  },
  {
   "cell_type": "code",
   "execution_count": 145,
   "metadata": {},
   "outputs": [
    {
     "data": {
      "text/plain": [
       "(49, 1)"
      ]
     },
     "execution_count": 145,
     "metadata": {},
     "output_type": "execute_result"
    }
   ],
   "source": [
    "data=data_preprocess(df)\n",
    "data.shape"
   ]
  },
  {
   "cell_type": "markdown",
   "metadata": {},
   "source": [
    "### stationary check\n",
    "\n",
    "#### Rolling\n",
    "\n",
    "##### What are rolling window calculations, and why do we care?\n",
    "\n",
    "Rolling calculations simply apply functions to a fixed width subset of this data (aka a window), indexing one observation each calculation. There are a few common reasons  you may want to use a rolling calculation in time series analysis:\n",
    "\n",
    "- Measuring the central tendency over time (mean, median)\n",
    "- Measuring the volatility over time (sd, var)\n",
    "- Detecting changes in trend (fast vs slow moving averages)\n",
    "- Measuring a relationship between two time series over time (cor, cov)\n",
    "\n",
    "A moving average allows us to visualize how an average changes over time, which is very useful in cutting through the noise to detect a trend in a time series dataset.\n",
    " In time series analysis, nothing is static. A correlation may exist for a subset of time or an average may vary from one day to the next. \n",
    " \n",
    "- rolling(4) means we are taking the mean of the last four entries at that particular point of time. same with std\n",
    "- There are many ways to check stationarity in data and rolling mean and std is one of them.\n",
    "- Rolling mean is used to check the stationarity. with rolling mean and std we can know the change in average w.r.to time.\n",
    "- For data to be stationary mean and standard deviation should be constant throughout the timeseries."
   ]
  },
  {
   "cell_type": "code",
   "execution_count": 146,
   "metadata": {},
   "outputs": [],
   "source": [
    "def rolling(data):\n",
    "    mean=data.rolling(12).mean()\n",
    "    std=data.rolling(12).std()\n",
    "    return mean,std"
   ]
  },
  {
   "cell_type": "code",
   "execution_count": 147,
   "metadata": {},
   "outputs": [],
   "source": [
    "def plot_rolling(data,mean,std):\n",
    "    plt.figure(figsize=(15,4))\n",
    "    plt.plot(mean,color='red',label='mean')\n",
    "    plt.plot(std,color='green',label='standard deviation')\n",
    "    plt.plot(data,color='blue',label='original data')\n",
    "    plt.legend(loc='best')\n",
    "    plt.show(block=False)"
   ]
  },
  {
   "cell_type": "code",
   "execution_count": 148,
   "metadata": {},
   "outputs": [
    {
     "data": {
      "image/png": "[encoded data removed]",
      "text/plain": [
       "<Figure size 1080x288 with 1 Axes>"
      ]
     },
     "metadata": {
      "needs_background": "light"
     },
     "output_type": "display_data"
    }
   ],
   "source": [
    "mean,std=rolling(data)\n",
    "plot_rolling(data,mean,std)"
   ]
  },
  {
   "cell_type": "markdown",
   "metadata": {},
   "source": [
    "### ADF TEST\n",
    "ADF (Augmented Dickey Fuller) Test The Dickey Fuller test is one of the most popular statistical tests. It can be used to determine the presence of unit root in the series, and hence help us understand if the series is stationary or not. The null and alternate hypothesis of this test are:\n",
    "\n",
    "- Null Hypothesis: The series has a unit root (value of a =1)\n",
    "\n",
    "- Alternate Hypothesis: The series has no unit root.\n",
    "\n",
    "If we fail to reject the null hypothesis, we can say that the series is non-stationary. This means that the series can be linear or difference stationary.\n",
    "\n",
    "If the test statistic is less than the critical value, we can reject the null hypothesis (aka the series is stationary). When the test statistic is greater than the critical value, we fail to reject the null hypothesis (which means the series is not stationary).\n",
    "\n",
    "In our above example, the test statistic > critical value, which implies that the series is not stationary. This confirms our original observation which we initially saw in the visual test.\n",
    "\n",
    "https://www.analyticsvidhya.com/blog/2018/09/non-stationary-time-series-python/#:~:text=Test%20for%20stationarity%3A%20If%20the,the%20series%20is%20not%20stationary)."
   ]
  },
  {
   "cell_type": "code",
   "execution_count": 149,
   "metadata": {},
   "outputs": [],
   "source": [
    "def stationary_test(data):\n",
    "    result=adfuller(data)\n",
    "    print(result[1])\n",
    "    labels = ['ADF Test Statistic','p-value','#Lags Used','Number of Observations Used']\n",
    "    for value,label in zip(result,labels):\n",
    "        print(label+' : '+str(value))\n",
    "    if result[1] <= 0.05:\n",
    "        res='stationary'\n",
    "        return res\n",
    "        #print(\"strong evidence against the null hypothesis(Ho), reject the null hypothesis. Data has no unit root and is stationary\")\n",
    "    else:\n",
    "        res='non-stationary'\n",
    "        return res\n",
    "        #print(\"weak evidence against null hypothesis, time series has a unit root, indicating it is non-stationary \")\n",
    "#stationary_test"
   ]
  },
  {
   "cell_type": "code",
   "execution_count": 150,
   "metadata": {},
   "outputs": [
    {
     "name": "stdout",
     "output_type": "stream",
     "text": [
      "0.30167309600275494\n",
      "ADF Test Statistic : -1.9660085322400667\n",
      "p-value : 0.30167309600275494\n",
      "#Lags Used : 2\n",
      "Number of Observations Used : 46\n"
     ]
    },
    {
     "data": {
      "text/plain": [
       "'non-stationary'"
      ]
     },
     "execution_count": 150,
     "metadata": {},
     "output_type": "execute_result"
    }
   ],
   "source": [
    "stationary_test(data)"
   ]
  },
  {
   "cell_type": "markdown",
   "metadata": {},
   "source": [
    "### Transform data to make it stationary\n",
    "One way to transform non-stationary data is applying log."
   ]
  },
  {
   "cell_type": "code",
   "execution_count": 151,
   "metadata": {},
   "outputs": [],
   "source": [
    "def log(data):\n",
    "    log_data=np.log(log_data)\n",
    "    return log_data"
   ]
  },
  {
   "cell_type": "code",
   "execution_count": 152,
   "metadata": {},
   "outputs": [
    {
     "name": "stdout",
     "output_type": "stream",
     "text": [
      "0.8248984980697573\n",
      "ADF Test Statistic : -0.7800974639658383\n",
      "p-value : 0.8248984980697573\n",
      "#Lags Used : 4\n",
      "Number of Observations Used : 44\n"
     ]
    },
    {
     "data": {
      "text/plain": [
       "'non-stationary'"
      ]
     },
     "execution_count": 152,
     "metadata": {},
     "output_type": "execute_result"
    }
   ],
   "source": [
    "log_data=np.log(data)\n",
    "stationary_test(log_data)"
   ]
  },
  {
   "cell_type": "markdown",
   "metadata": {},
   "source": [
    "### Differencing\n",
    "\n",
    "The second (and most important) step in fitting an ARIMA model is the determination of the order of differencing needed to stationarize the series. Normally, the correct amount of differencing is the lowest order of differencing that yields a time series which fluctuates around a well-defined mean value and whose autocorrelation function (ACF) plot decays fairly rapidly to zero, either from above or below. If the series still exhibits a long-term trend, or otherwise lacks a tendency to return to its mean value, or if its autocorrelations are are positive out to a high number of lags (e.g., 10 or more), then it needs a higher order of differencing."
   ]
  },
  {
   "cell_type": "code",
   "execution_count": 153,
   "metadata": {},
   "outputs": [],
   "source": [
    "def diff_data(data):\n",
    "    log_diff=log_data-log_data.shift(1)\n",
    "    return log_diff"
   ]
  },
  {
   "cell_type": "code",
   "execution_count": 154,
   "metadata": {},
   "outputs": [
    {
     "name": "stdout",
     "output_type": "stream",
     "text": [
      "1.9860170519098638e-07\n",
      "ADF Test Statistic : -5.966110135893695\n",
      "p-value : 1.9860170519098638e-07\n",
      "#Lags Used : 3\n",
      "Number of Observations Used : 44\n"
     ]
    },
    {
     "data": {
      "text/plain": [
       "'stationary'"
      ]
     },
     "execution_count": 154,
     "metadata": {},
     "output_type": "execute_result"
    }
   ],
   "source": [
    "log_diff=diff_data(log_data)\n",
    "stationary_test(log_diff[1:])"
   ]
  },
  {
   "cell_type": "code",
   "execution_count": 155,
   "metadata": {},
   "outputs": [],
   "source": [
    "train=log_data[:30]\n",
    "test=log_data[30:]"
   ]
  },
  {
   "cell_type": "markdown",
   "metadata": {},
   "source": [
    "### Build Models"
   ]
  },
  {
   "cell_type": "code",
   "execution_count": 156,
   "metadata": {},
   "outputs": [
    {
     "name": "stdout",
     "output_type": "stream",
     "text": [
      "Performing stepwise search to minimize aic\n",
      " ARIMA(0,1,0)(0,0,0)[0] intercept   : AIC=214.644, Time=2.68 sec\n",
      " ARIMA(1,1,0)(0,0,0)[0] intercept   : AIC=191.863, Time=0.04 sec\n",
      " ARIMA(0,1,1)(0,0,0)[0] intercept   : AIC=185.912, Time=0.07 sec\n",
      " ARIMA(0,1,0)(0,0,0)[0]             : AIC=212.645, Time=0.02 sec\n",
      " ARIMA(1,1,1)(0,0,0)[0] intercept   : AIC=184.165, Time=0.05 sec\n",
      " ARIMA(2,1,1)(0,0,0)[0] intercept   : AIC=186.020, Time=0.11 sec\n",
      " ARIMA(1,1,2)(0,0,0)[0] intercept   : AIC=186.060, Time=0.09 sec\n",
      " ARIMA(0,1,2)(0,0,0)[0] intercept   : AIC=184.191, Time=0.07 sec\n",
      " ARIMA(2,1,0)(0,0,0)[0] intercept   : AIC=185.928, Time=0.04 sec\n",
      " ARIMA(2,1,2)(0,0,0)[0] intercept   : AIC=186.353, Time=0.13 sec\n",
      " ARIMA(1,1,1)(0,0,0)[0]             : AIC=182.273, Time=0.04 sec\n",
      " ARIMA(0,1,1)(0,0,0)[0]             : AIC=184.226, Time=0.04 sec\n",
      " ARIMA(1,1,0)(0,0,0)[0]             : AIC=189.863, Time=0.03 sec\n",
      " ARIMA(2,1,1)(0,0,0)[0]             : AIC=184.096, Time=0.06 sec\n",
      " ARIMA(1,1,2)(0,0,0)[0]             : AIC=184.133, Time=0.06 sec\n",
      " ARIMA(0,1,2)(0,0,0)[0]             : AIC=182.237, Time=0.04 sec\n",
      " ARIMA(0,1,3)(0,0,0)[0]             : AIC=184.163, Time=0.06 sec\n",
      " ARIMA(1,1,3)(0,0,0)[0]             : AIC=185.703, Time=0.10 sec\n",
      "\n",
      "Best model:  ARIMA(0,1,2)(0,0,0)[0]          \n",
      "Total fit time: 3.814 seconds\n",
      "182.23680245105254\n"
     ]
    }
   ],
   "source": [
    "from pmdarima.arima import auto_arima\n",
    "stepwise_model = auto_arima(log_data, start_p=0, start_q=0,\n",
    "                           max_p=5, max_q=3, m=12,\n",
    "                           start_P=0, seasonal=False,\n",
    "                           d=1, D=2, trace=True,\n",
    "                           error_action='ignore',  \n",
    "                           suppress_warnings=True, \n",
    "                           stepwise=True)\n",
    "print(stepwise_model.aic())"
   ]
  },
  {
   "cell_type": "code",
   "execution_count": 157,
   "metadata": {},
   "outputs": [
    {
     "data": {
      "text/plain": [
       "ARIMA(order=(0, 1, 2), scoring_args={}, suppress_warnings=True,\n",
       "      with_intercept=False)"
      ]
     },
     "execution_count": 157,
     "metadata": {},
     "output_type": "execute_result"
    }
   ],
   "source": [
    "stepwise_model.fit(train)"
   ]
  },
  {
   "cell_type": "markdown",
   "metadata": {},
   "source": [
    "### Evaluate the model on test data"
   ]
  },
  {
   "cell_type": "code",
   "execution_count": 158,
   "metadata": {},
   "outputs": [],
   "source": [
    "future_forecast = stepwise_model.predict(n_periods=19)"
   ]
  },
  {
   "cell_type": "code",
   "execution_count": 159,
   "metadata": {},
   "outputs": [
    {
     "data": {
      "text/plain": [
       "<AxesSubplot:xlabel='RDD YW'>"
      ]
     },
     "execution_count": 159,
     "metadata": {},
     "output_type": "execute_result"
    },
    {
     "data": {
      "image/png": "[encoded data removed]",
      "text/plain": [
       "<Figure size 432x288 with 1 Axes>"
      ]
     },
     "metadata": {
      "needs_background": "light"
     },
     "output_type": "display_data"
    }
   ],
   "source": [
    "future_forecast = pd.DataFrame(future_forecast,index = test.index,columns=['Prediction'])\n",
    "pd.concat([test,future_forecast],axis=1).plot()"
   ]
  },
  {
   "cell_type": "code",
   "execution_count": 160,
   "metadata": {},
   "outputs": [
    {
     "data": {
      "text/html": [
       "<div>\n",
       "<style scoped>\n",
       "    .dataframe tbody tr th:only-of-type {\n",
       "        vertical-align: middle;\n",
       "    }\n",
       "\n",
       "    .dataframe tbody tr th {\n",
       "        vertical-align: top;\n",
       "    }\n",
       "\n",
       "    .dataframe thead th {\n",
       "        text-align: right;\n",
       "    }\n",
       "</style>\n",
       "<table border=\"1\" class=\"dataframe\">\n",
       "  <thead>\n",
       "    <tr style=\"text-align: right;\">\n",
       "      <th></th>\n",
       "      <th>Prediction</th>\n",
       "    </tr>\n",
       "    <tr>\n",
       "      <th>RDD YW</th>\n",
       "      <th></th>\n",
       "    </tr>\n",
       "  </thead>\n",
       "  <tbody>\n",
       "    <tr>\n",
       "      <th>2020-09-14</th>\n",
       "      <td>8.710034</td>\n",
       "    </tr>\n",
       "    <tr>\n",
       "      <th>2020-09-21</th>\n",
       "      <td>8.924159</td>\n",
       "    </tr>\n",
       "    <tr>\n",
       "      <th>2020-09-28</th>\n",
       "      <td>8.924159</td>\n",
       "    </tr>\n",
       "    <tr>\n",
       "      <th>2020-10-05</th>\n",
       "      <td>8.924159</td>\n",
       "    </tr>\n",
       "    <tr>\n",
       "      <th>2020-10-12</th>\n",
       "      <td>8.924159</td>\n",
       "    </tr>\n",
       "    <tr>\n",
       "      <th>2020-10-19</th>\n",
       "      <td>8.924159</td>\n",
       "    </tr>\n",
       "    <tr>\n",
       "      <th>2020-10-26</th>\n",
       "      <td>8.924159</td>\n",
       "    </tr>\n",
       "    <tr>\n",
       "      <th>2020-11-02</th>\n",
       "      <td>8.924159</td>\n",
       "    </tr>\n",
       "    <tr>\n",
       "      <th>2021-01-04</th>\n",
       "      <td>8.924159</td>\n",
       "    </tr>\n",
       "    <tr>\n",
       "      <th>2021-02-01</th>\n",
       "      <td>8.924159</td>\n",
       "    </tr>\n",
       "    <tr>\n",
       "      <th>2021-02-22</th>\n",
       "      <td>8.924159</td>\n",
       "    </tr>\n",
       "    <tr>\n",
       "      <th>2021-03-01</th>\n",
       "      <td>8.924159</td>\n",
       "    </tr>\n",
       "    <tr>\n",
       "      <th>2021-04-05</th>\n",
       "      <td>8.924159</td>\n",
       "    </tr>\n",
       "    <tr>\n",
       "      <th>2021-05-03</th>\n",
       "      <td>8.924159</td>\n",
       "    </tr>\n",
       "    <tr>\n",
       "      <th>2021-06-07</th>\n",
       "      <td>8.924159</td>\n",
       "    </tr>\n",
       "    <tr>\n",
       "      <th>2021-07-05</th>\n",
       "      <td>8.924159</td>\n",
       "    </tr>\n",
       "    <tr>\n",
       "      <th>2021-08-02</th>\n",
       "      <td>8.924159</td>\n",
       "    </tr>\n",
       "    <tr>\n",
       "      <th>2021-09-06</th>\n",
       "      <td>8.924159</td>\n",
       "    </tr>\n",
       "    <tr>\n",
       "      <th>2021-10-04</th>\n",
       "      <td>8.924159</td>\n",
       "    </tr>\n",
       "  </tbody>\n",
       "</table>\n",
       "</div>"
      ],
      "text/plain": [
       "            Prediction\n",
       "RDD YW                \n",
       "2020-09-14    8.710034\n",
       "2020-09-21    8.924159\n",
       "2020-09-28    8.924159\n",
       "2020-10-05    8.924159\n",
       "2020-10-12    8.924159\n",
       "2020-10-19    8.924159\n",
       "2020-10-26    8.924159\n",
       "2020-11-02    8.924159\n",
       "2021-01-04    8.924159\n",
       "2021-02-01    8.924159\n",
       "2021-02-22    8.924159\n",
       "2021-03-01    8.924159\n",
       "2021-04-05    8.924159\n",
       "2021-05-03    8.924159\n",
       "2021-06-07    8.924159\n",
       "2021-07-05    8.924159\n",
       "2021-08-02    8.924159\n",
       "2021-09-06    8.924159\n",
       "2021-10-04    8.924159"
      ]
     },
     "execution_count": 160,
     "metadata": {},
     "output_type": "execute_result"
    }
   ],
   "source": [
    "future_forecast"
   ]
  },
  {
   "cell_type": "code",
   "execution_count": 162,
   "metadata": {},
   "outputs": [
    {
     "name": "stdout",
     "output_type": "stream",
     "text": [
      "6.5899223364170965\n"
     ]
    }
   ],
   "source": [
    "from sklearn.metrics import mean_squared_error\n",
    "print(mean_squared_error(test['Order Quantity (EA)'],future_forecast))"
   ]
  },
  {
   "cell_type": "code",
   "execution_count": null,
   "metadata": {},
   "outputs": [],
   "source": []
  }
 ],
 "metadata": {
  "kernelspec": {
   "display_name": "Python 3",
   "language": "python",
   "name": "python3"
  },
  "language_info": {
   "codemirror_mode": {
    "name": "ipython",
    "version": 3
   },
   "file_extension": ".py",
   "mimetype": "text/x-python",
   "name": "python",
   "nbconvert_exporter": "python",
   "pygments_lexer": "ipython3",
   "version": "3.8.5"
  }
 },
 "nbformat": 4,
 "nbformat_minor": 4
}

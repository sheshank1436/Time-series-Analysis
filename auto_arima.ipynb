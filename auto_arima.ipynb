{
 "cells": [
  {
   "cell_type": "code",
   "execution_count": 1,
   "metadata": {},
   "outputs": [],
   "source": [
    "import pandas as pd\n",
    "import numpy as np\n",
    "import matplotlib.pyplot as plt\n",
    "import seaborn as sns\n",
    "import warnings\n",
    "import datetime\n",
    "from statsmodels.tsa.stattools import adfuller\n",
    "from datetime import datetime\n",
    "warnings.filterwarnings('ignore')"
   ]
  },
  {
   "cell_type": "code",
   "execution_count": 2,
   "metadata": {},
   "outputs": [],
   "source": [
    "df=pd.read_excel(r'C:\\Users\\shkatta\\Downloads\\downloaded\\train.xlsx')\n",
    "df_test=pd.read_excel(r'C:\\Users\\shkatta\\Downloads\\downloaded\\test.xlsx')"
   ]
  },
  {
   "cell_type": "code",
   "execution_count": 27,
   "metadata": {},
   "outputs": [
    {
     "data": {
      "text/html": [
       "<div>\n",
       "<style scoped>\n",
       "    .dataframe tbody tr th:only-of-type {\n",
       "        vertical-align: middle;\n",
       "    }\n",
       "\n",
       "    .dataframe tbody tr th {\n",
       "        vertical-align: top;\n",
       "    }\n",
       "\n",
       "    .dataframe thead th {\n",
       "        text-align: right;\n",
       "    }\n",
       "</style>\n",
       "<table border=\"1\" class=\"dataframe\">\n",
       "  <thead>\n",
       "    <tr style=\"text-align: right;\">\n",
       "      <th></th>\n",
       "      <th>Sold To Party</th>\n",
       "      <th>Material</th>\n",
       "      <th>Order Quantity (EA)</th>\n",
       "      <th>Plant</th>\n",
       "      <th>First RDD</th>\n",
       "      <th>Net Value</th>\n",
       "      <th>RDD YYYY-MM</th>\n",
       "      <th>RDD YW</th>\n",
       "    </tr>\n",
       "  </thead>\n",
       "  <tbody>\n",
       "    <tr>\n",
       "      <th>0</th>\n",
       "      <td>1001024881</td>\n",
       "      <td>363083</td>\n",
       "      <td>2000</td>\n",
       "      <td>1100</td>\n",
       "      <td>2020-02-06</td>\n",
       "      <td>474.54</td>\n",
       "      <td>2020-02</td>\n",
       "      <td>2020-06</td>\n",
       "    </tr>\n",
       "    <tr>\n",
       "      <th>1</th>\n",
       "      <td>1001024881</td>\n",
       "      <td>363083</td>\n",
       "      <td>7000</td>\n",
       "      <td>1100</td>\n",
       "      <td>2020-02-06</td>\n",
       "      <td>1310.89</td>\n",
       "      <td>2020-02</td>\n",
       "      <td>2020-06</td>\n",
       "    </tr>\n",
       "    <tr>\n",
       "      <th>2</th>\n",
       "      <td>1001024881</td>\n",
       "      <td>364815</td>\n",
       "      <td>45000</td>\n",
       "      <td>1215</td>\n",
       "      <td>2020-01-09</td>\n",
       "      <td>2317.95</td>\n",
       "      <td>2020-01</td>\n",
       "      <td>2020-02</td>\n",
       "    </tr>\n",
       "    <tr>\n",
       "      <th>3</th>\n",
       "      <td>1001024881</td>\n",
       "      <td>363083</td>\n",
       "      <td>10000</td>\n",
       "      <td>1100</td>\n",
       "      <td>2020-02-05</td>\n",
       "      <td>1872.70</td>\n",
       "      <td>2020-02</td>\n",
       "      <td>2020-06</td>\n",
       "    </tr>\n",
       "    <tr>\n",
       "      <th>4</th>\n",
       "      <td>1001024881</td>\n",
       "      <td>366408</td>\n",
       "      <td>1000</td>\n",
       "      <td>1215</td>\n",
       "      <td>2020-01-09</td>\n",
       "      <td>167.59</td>\n",
       "      <td>2020-01</td>\n",
       "      <td>2020-02</td>\n",
       "    </tr>\n",
       "    <tr>\n",
       "      <th>5</th>\n",
       "      <td>1001024881</td>\n",
       "      <td>36490200</td>\n",
       "      <td>19008</td>\n",
       "      <td>1215</td>\n",
       "      <td>2020-01-09</td>\n",
       "      <td>14541.12</td>\n",
       "      <td>2020-01</td>\n",
       "      <td>2020-02</td>\n",
       "    </tr>\n",
       "    <tr>\n",
       "      <th>6</th>\n",
       "      <td>1001024881</td>\n",
       "      <td>442023</td>\n",
       "      <td>12800</td>\n",
       "      <td>1014</td>\n",
       "      <td>2020-01-09</td>\n",
       "      <td>83384.32</td>\n",
       "      <td>2020-01</td>\n",
       "      <td>2020-02</td>\n",
       "    </tr>\n",
       "    <tr>\n",
       "      <th>7</th>\n",
       "      <td>1001024881</td>\n",
       "      <td>220220</td>\n",
       "      <td>1600</td>\n",
       "      <td>1215</td>\n",
       "      <td>2020-01-10</td>\n",
       "      <td>4166.72</td>\n",
       "      <td>2020-01</td>\n",
       "      <td>2020-02</td>\n",
       "    </tr>\n",
       "    <tr>\n",
       "      <th>8</th>\n",
       "      <td>1001024881</td>\n",
       "      <td>221261</td>\n",
       "      <td>70200</td>\n",
       "      <td>1014</td>\n",
       "      <td>2020-01-09</td>\n",
       "      <td>25075.44</td>\n",
       "      <td>2020-01</td>\n",
       "      <td>2020-02</td>\n",
       "    </tr>\n",
       "  </tbody>\n",
       "</table>\n",
       "</div>"
      ],
      "text/plain": [
       "   Sold To Party  Material  Order Quantity (EA)  Plant  First RDD  Net Value  \\\n",
       "0     1001024881    363083                 2000   1100 2020-02-06     474.54   \n",
       "1     1001024881    363083                 7000   1100 2020-02-06    1310.89   \n",
       "2     1001024881    364815                45000   1215 2020-01-09    2317.95   \n",
       "3     1001024881    363083                10000   1100 2020-02-05    1872.70   \n",
       "4     1001024881    366408                 1000   1215 2020-01-09     167.59   \n",
       "5     1001024881  36490200                19008   1215 2020-01-09   14541.12   \n",
       "6     1001024881    442023                12800   1014 2020-01-09   83384.32   \n",
       "7     1001024881    220220                 1600   1215 2020-01-10    4166.72   \n",
       "8     1001024881    221261                70200   1014 2020-01-09   25075.44   \n",
       "\n",
       "  RDD YYYY-MM   RDD YW  \n",
       "0     2020-02  2020-06  \n",
       "1     2020-02  2020-06  \n",
       "2     2020-01  2020-02  \n",
       "3     2020-02  2020-06  \n",
       "4     2020-01  2020-02  \n",
       "5     2020-01  2020-02  \n",
       "6     2020-01  2020-02  \n",
       "7     2020-01  2020-02  \n",
       "8     2020-01  2020-02  "
      ]
     },
     "execution_count": 27,
     "metadata": {},
     "output_type": "execute_result"
    }
   ],
   "source": [
    "df.head(9)"
   ]
  },
  {
   "cell_type": "markdown",
   "metadata": {},
   "source": [
    "### weekly analysis"
   ]
  },
  {
   "cell_type": "code",
   "execution_count": 3,
   "metadata": {},
   "outputs": [],
   "source": [
    "def data_preprocess(data):\n",
    "    for r in range(df.shape[0]):\n",
    "        if df.loc[r,'First RDD']==0:\n",
    "            df.loc[r,'RDD YW']=0\n",
    "        else:\n",
    "            df.loc[r,'RDD YW']=df.loc[r,'First RDD'].strftime('%Y-%V')\n",
    "    temp=df[(df['Sold To Party']==1001016461) & (df['Material']==292335)]\n",
    "    t1=temp[['RDD YW', 'Order Quantity (EA)']]\n",
    "    t1.sort_values(by='RDD YW', inplace=True)\n",
    "    t1.reset_index(inplace=True, drop=True)\n",
    "    t1=t1.groupby(by='RDD YW').sum()\n",
    "    t1.reset_index(inplace=True)\n",
    "    for r in range(0,t1.shape[0]):\n",
    "        t1.loc[r,'RDD YW']=datetime.strptime(t1.loc[r,'RDD YW'] + '-1', \"%Y-%W-%w\")\n",
    "    t1.set_index('RDD YW', inplace=True)\n",
    "    return t1"
   ]
  },
  {
   "cell_type": "code",
   "execution_count": 26,
   "metadata": {},
   "outputs": [
    {
     "data": {
      "text/plain": [
       "(49, 1)"
      ]
     },
     "execution_count": 26,
     "metadata": {},
     "output_type": "execute_result"
    }
   ],
   "source": [
    "data=data_preprocess(df)\n",
    "data.shape"
   ]
  },
  {
   "cell_type": "markdown",
   "metadata": {},
   "source": [
    "### stationary check\n",
    "\n",
    "- Rolling mean is used to check the stationarity.\n",
    "- For data to be stationary mean and standard deviation should be constant throughout the timeseries."
   ]
  },
  {
   "cell_type": "code",
   "execution_count": 7,
   "metadata": {},
   "outputs": [],
   "source": [
    "def rolling(data):\n",
    "    mean=data.rolling(12).mean()\n",
    "    std=data.rolling(12).std()\n",
    "    return mean,std"
   ]
  },
  {
   "cell_type": "code",
   "execution_count": 12,
   "metadata": {},
   "outputs": [],
   "source": [
    "def plot_rolling(data,mean,std):\n",
    "    plt.figure(figsize=(15,4))\n",
    "    plt.plot(mean,color='red',label='mean')\n",
    "    plt.plot(std,color='green',label='standard deviation')\n",
    "    plt.plot(data,color='blue',label='original data')\n",
    "    plt.legend(loc='best')\n",
    "    plt.show(block=False)"
   ]
  },
  {
   "cell_type": "code",
   "execution_count": 13,
   "metadata": {},
   "outputs": [
    {
     "data": {
      "image/png": "[encoded data removed]",
      "text/plain": [
       "<Figure size 1080x288 with 1 Axes>"
      ]
     },
     "metadata": {
      "needs_background": "light"
     },
     "output_type": "display_data"
    }
   ],
   "source": [
    "mean,std=rolling(data)\n",
    "plot_rolling(data,mean,std)"
   ]
  },
  {
   "cell_type": "code",
   "execution_count": 14,
   "metadata": {},
   "outputs": [],
   "source": [
    "def stationary_test(data):\n",
    "    result=adfuller(data)\n",
    "    print(result[1])\n",
    "    labels = ['ADF Test Statistic','p-value','#Lags Used','Number of Observations Used']\n",
    "    for value,label in zip(result,labels):\n",
    "        print(label+' : '+str(value))\n",
    "    if result[1] <= 0.05:\n",
    "        res='stationary'\n",
    "        return res\n",
    "        #print(\"strong evidence against the null hypothesis(Ho), reject the null hypothesis. Data has no unit root and is stationary\")\n",
    "    else:\n",
    "        res='non-stationary'\n",
    "        return res\n",
    "        #print(\"weak evidence against null hypothesis, time series has a unit root, indicating it is non-stationary \")\n",
    "#stationary_test"
   ]
  },
  {
   "cell_type": "code",
   "execution_count": 16,
   "metadata": {},
   "outputs": [
    {
     "name": "stdout",
     "output_type": "stream",
     "text": [
      "0.30167309600275494\n",
      "ADF Test Statistic : -1.9660085322400667\n",
      "p-value : 0.30167309600275494\n",
      "#Lags Used : 2\n",
      "Number of Observations Used : 46\n"
     ]
    },
    {
     "data": {
      "text/plain": [
       "'non-stationary'"
      ]
     },
     "execution_count": 16,
     "metadata": {},
     "output_type": "execute_result"
    }
   ],
   "source": [
    "stationary_test(data)"
   ]
  },
  {
   "cell_type": "markdown",
   "metadata": {},
   "source": [
    "### Transform data to make it stationary"
   ]
  },
  {
   "cell_type": "code",
   "execution_count": 17,
   "metadata": {},
   "outputs": [],
   "source": [
    "def log(data):\n",
    "    log_data=np.log(log_data)\n",
    "    return log_data"
   ]
  },
  {
   "cell_type": "code",
   "execution_count": 18,
   "metadata": {},
   "outputs": [
    {
     "name": "stdout",
     "output_type": "stream",
     "text": [
      "0.8248984980697573\n",
      "ADF Test Statistic : -0.7800974639658383\n",
      "p-value : 0.8248984980697573\n",
      "#Lags Used : 4\n",
      "Number of Observations Used : 44\n"
     ]
    },
    {
     "data": {
      "text/plain": [
       "'non-stationary'"
      ]
     },
     "execution_count": 18,
     "metadata": {},
     "output_type": "execute_result"
    }
   ],
   "source": [
    "log_data=np.log(data)\n",
    "stationary_test(log_data)"
   ]
  },
  {
   "cell_type": "code",
   "execution_count": 19,
   "metadata": {},
   "outputs": [],
   "source": [
    "def diff_data(data):\n",
    "    log_diff=log_data-log_data.shift(1)\n",
    "    return log_diff"
   ]
  },
  {
   "cell_type": "code",
   "execution_count": 21,
   "metadata": {},
   "outputs": [
    {
     "name": "stdout",
     "output_type": "stream",
     "text": [
      "1.9860170519098638e-07\n",
      "ADF Test Statistic : -5.966110135893695\n",
      "p-value : 1.9860170519098638e-07\n",
      "#Lags Used : 3\n",
      "Number of Observations Used : 44\n"
     ]
    },
    {
     "data": {
      "text/plain": [
       "'stationary'"
      ]
     },
     "execution_count": 21,
     "metadata": {},
     "output_type": "execute_result"
    }
   ],
   "source": [
    "log_diff=diff_data(log_data)\n",
    "stationary_test(log_diff[1:])"
   ]
  },
  {
   "cell_type": "code",
   "execution_count": 42,
   "metadata": {},
   "outputs": [],
   "source": [
    "train=log_data[:30]\n",
    "test=log_data[30:]"
   ]
  },
  {
   "cell_type": "markdown",
   "metadata": {},
   "source": [
    "### Build Models"
   ]
  },
  {
   "cell_type": "code",
   "execution_count": 43,
   "metadata": {},
   "outputs": [
    {
     "name": "stdout",
     "output_type": "stream",
     "text": [
      "Performing stepwise search to minimize aic\n",
      " ARIMA(0,1,0)(0,0,0)[0] intercept   : AIC=214.644, Time=0.22 sec\n",
      " ARIMA(1,1,0)(0,0,0)[0] intercept   : AIC=191.863, Time=0.07 sec\n",
      " ARIMA(0,1,1)(0,0,0)[0] intercept   : AIC=185.912, Time=0.10 sec\n",
      " ARIMA(0,1,0)(0,0,0)[0]             : AIC=212.645, Time=0.03 sec\n",
      " ARIMA(1,1,1)(0,0,0)[0] intercept   : AIC=184.165, Time=0.10 sec\n",
      " ARIMA(2,1,1)(0,0,0)[0] intercept   : AIC=186.020, Time=0.13 sec\n",
      " ARIMA(1,1,2)(0,0,0)[0] intercept   : AIC=186.060, Time=0.17 sec\n",
      " ARIMA(0,1,2)(0,0,0)[0] intercept   : AIC=184.191, Time=0.19 sec\n",
      " ARIMA(2,1,0)(0,0,0)[0] intercept   : AIC=185.928, Time=0.12 sec\n",
      " ARIMA(2,1,2)(0,0,0)[0] intercept   : AIC=186.353, Time=0.21 sec\n",
      " ARIMA(1,1,1)(0,0,0)[0]             : AIC=182.273, Time=0.07 sec\n",
      " ARIMA(0,1,1)(0,0,0)[0]             : AIC=184.226, Time=0.03 sec\n",
      " ARIMA(1,1,0)(0,0,0)[0]             : AIC=189.863, Time=0.03 sec\n",
      " ARIMA(2,1,1)(0,0,0)[0]             : AIC=184.096, Time=0.07 sec\n",
      " ARIMA(1,1,2)(0,0,0)[0]             : AIC=184.133, Time=0.11 sec\n",
      " ARIMA(0,1,2)(0,0,0)[0]             : AIC=182.237, Time=0.05 sec\n",
      " ARIMA(0,1,3)(0,0,0)[0]             : AIC=184.163, Time=0.10 sec\n",
      " ARIMA(1,1,3)(0,0,0)[0]             : AIC=185.703, Time=0.19 sec\n",
      "\n",
      "Best model:  ARIMA(0,1,2)(0,0,0)[0]          \n",
      "Total fit time: 2.114 seconds\n",
      "182.23680245105254\n"
     ]
    }
   ],
   "source": [
    "from pmdarima.arima import auto_arima\n",
    "stepwise_model = auto_arima(log_data, start_p=0, start_q=0,\n",
    "                           max_p=5, max_q=3, m=12,\n",
    "                           start_P=0, seasonal=False,\n",
    "                           d=1, D=2, trace=True,\n",
    "                           error_action='ignore',  \n",
    "                           suppress_warnings=True, \n",
    "                           stepwise=True)\n",
    "print(stepwise_model.aic())"
   ]
  },
  {
   "cell_type": "code",
   "execution_count": 44,
   "metadata": {},
   "outputs": [
    {
     "data": {
      "text/plain": [
       "ARIMA(order=(0, 1, 2), scoring_args={}, suppress_warnings=True,\n",
       "      with_intercept=False)"
      ]
     },
     "execution_count": 44,
     "metadata": {},
     "output_type": "execute_result"
    }
   ],
   "source": [
    "stepwise_model.fit(train)"
   ]
  },
  {
   "cell_type": "code",
   "execution_count": 45,
   "metadata": {},
   "outputs": [],
   "source": [
    "future_forecast = stepwise_model.predict(n_periods=19)"
   ]
  },
  {
   "cell_type": "code",
   "execution_count": 46,
   "metadata": {},
   "outputs": [
    {
     "data": {
      "text/plain": [
       "<AxesSubplot:xlabel='RDD YW'>"
      ]
     },
     "execution_count": 46,
     "metadata": {},
     "output_type": "execute_result"
    },
    {
     "data": {
      "image/png": "[encoded data removed]",
      "text/plain": [
       "<Figure size 432x288 with 1 Axes>"
      ]
     },
     "metadata": {
      "needs_background": "light"
     },
     "output_type": "display_data"
    }
   ],
   "source": [
    "future_forecast = pd.DataFrame(future_forecast,index = test.index,columns=['Prediction'])\n",
    "pd.concat([test,future_forecast],axis=1).plot()"
   ]
  },
  {
   "cell_type": "code",
   "execution_count": 84,
   "metadata": {},
   "outputs": [],
   "source": [
    "from statsmodels.tsa.arima_model import ARIMA\n",
    "model=ARIMA(log_data,order=(2,1,0))\n",
    "model_fit=model.fit()"
   ]
  },
  {
   "cell_type": "code",
   "execution_count": 85,
   "metadata": {},
   "outputs": [
    {
     "data": {
      "text/html": [
       "<table class=\"simpletable\">\n",
       "<caption>ARIMA Model Results</caption>\n",
       "<tr>\n",
       "  <th>Dep. Variable:</th> <td>D.Order Quantity (EA)</td> <th>  No. Observations:  </th>   <td>48</td>   \n",
       "</tr>\n",
       "<tr>\n",
       "  <th>Model:</th>            <td>ARIMA(2, 1, 0)</td>     <th>  Log Likelihood     </th> <td>-88.964</td>\n",
       "</tr>\n",
       "<tr>\n",
       "  <th>Method:</th>               <td>css-mle</td>        <th>  S.D. of innovations</th>  <td>1.531</td> \n",
       "</tr>\n",
       "<tr>\n",
       "  <th>Date:</th>            <td>Mon, 05 Apr 2021</td>    <th>  AIC                </th> <td>185.928</td>\n",
       "</tr>\n",
       "<tr>\n",
       "  <th>Time:</th>                <td>20:41:51</td>        <th>  BIC                </th> <td>193.413</td>\n",
       "</tr>\n",
       "<tr>\n",
       "  <th>Sample:</th>                  <td>1</td>           <th>  HQIC               </th> <td>188.756</td>\n",
       "</tr>\n",
       "<tr>\n",
       "  <th></th>                         <td> </td>           <th>                     </th>    <td> </td>   \n",
       "</tr>\n",
       "</table>\n",
       "<table class=\"simpletable\">\n",
       "<tr>\n",
       "               <td></td>                  <th>coef</th>     <th>std err</th>      <th>z</th>      <th>P>|z|</th>  <th>[0.025</th>    <th>0.975]</th>  \n",
       "</tr>\n",
       "<tr>\n",
       "  <th>const</th>                       <td>   -0.0105</td> <td>    0.099</td> <td>   -0.106</td> <td> 0.915</td> <td>   -0.204</td> <td>    0.183</td>\n",
       "</tr>\n",
       "<tr>\n",
       "  <th>ar.L1.D.Order Quantity (EA)</th> <td>   -0.8864</td> <td>    0.133</td> <td>   -6.686</td> <td> 0.000</td> <td>   -1.146</td> <td>   -0.627</td>\n",
       "</tr>\n",
       "<tr>\n",
       "  <th>ar.L2.D.Order Quantity (EA)</th> <td>   -0.3888</td> <td>    0.131</td> <td>   -2.964</td> <td> 0.003</td> <td>   -0.646</td> <td>   -0.132</td>\n",
       "</tr>\n",
       "</table>\n",
       "<table class=\"simpletable\">\n",
       "<caption>Roots</caption>\n",
       "<tr>\n",
       "    <td></td>   <th>            Real</th>  <th>         Imaginary</th> <th>         Modulus</th>  <th>        Frequency</th>\n",
       "</tr>\n",
       "<tr>\n",
       "  <th>AR.1</th> <td>          -1.1400</td> <td>          -1.1281j</td> <td>           1.6038</td> <td>          -0.3758</td>\n",
       "</tr>\n",
       "<tr>\n",
       "  <th>AR.2</th> <td>          -1.1400</td> <td>          +1.1281j</td> <td>           1.6038</td> <td>           0.3758</td>\n",
       "</tr>\n",
       "</table>"
      ],
      "text/plain": [
       "<class 'statsmodels.iolib.summary.Summary'>\n",
       "\"\"\"\n",
       "                               ARIMA Model Results                               \n",
       "=================================================================================\n",
       "Dep. Variable:     D.Order Quantity (EA)   No. Observations:                   48\n",
       "Model:                    ARIMA(2, 1, 0)   Log Likelihood                 -88.964\n",
       "Method:                          css-mle   S.D. of innovations              1.531\n",
       "Date:                   Mon, 05 Apr 2021   AIC                            185.928\n",
       "Time:                           20:41:51   BIC                            193.413\n",
       "Sample:                                1   HQIC                           188.756\n",
       "                                                                                 \n",
       "===============================================================================================\n",
       "                                  coef    std err          z      P>|z|      [0.025      0.975]\n",
       "-----------------------------------------------------------------------------------------------\n",
       "const                          -0.0105      0.099     -0.106      0.915      -0.204       0.183\n",
       "ar.L1.D.Order Quantity (EA)    -0.8864      0.133     -6.686      0.000      -1.146      -0.627\n",
       "ar.L2.D.Order Quantity (EA)    -0.3888      0.131     -2.964      0.003      -0.646      -0.132\n",
       "                                    Roots                                    \n",
       "=============================================================================\n",
       "                  Real          Imaginary           Modulus         Frequency\n",
       "-----------------------------------------------------------------------------\n",
       "AR.1           -1.1400           -1.1281j            1.6038           -0.3758\n",
       "AR.2           -1.1400           +1.1281j            1.6038            0.3758\n",
       "-----------------------------------------------------------------------------\n",
       "\"\"\""
      ]
     },
     "execution_count": 85,
     "metadata": {},
     "output_type": "execute_result"
    }
   ],
   "source": [
    "model_fit.summary()"
   ]
  },
  {
   "cell_type": "code",
   "execution_count": 87,
   "metadata": {},
   "outputs": [
    {
     "data": {
      "image/png": "[encoded data removed]",
      "text/plain": [
       "<Figure size 432x288 with 1 Axes>"
      ]
     },
     "execution_count": 87,
     "metadata": {},
     "output_type": "execute_result"
    },
    {
     "data": {
      "image/png": "[encoded data removed]",
      "text/plain": [
       "<Figure size 432x288 with 1 Axes>"
      ]
     },
     "metadata": {
      "needs_background": "light"
     },
     "output_type": "display_data"
    }
   ],
   "source": [
    "model_fit.plot_predict(1,70)"
   ]
  }
 ],
 "metadata": {
  "kernelspec": {
   "display_name": "Python 3",
   "language": "python",
   "name": "python3"
  },
  "language_info": {
   "codemirror_mode": {
    "name": "ipython",
    "version": 3
   },
   "file_extension": ".py",
   "mimetype": "text/x-python",
   "name": "python",
   "nbconvert_exporter": "python",
   "pygments_lexer": "ipython3",
   "version": "3.8.5"
  }
 },
 "nbformat": 4,
 "nbformat_minor": 4
}
